{
 "cells": [
  {
   "cell_type": "code",
   "execution_count": 1,
   "id": "sonic-breach",
   "metadata": {},
   "outputs": [],
   "source": [
    "from PIL import Image\n",
    "import os, glob\n",
    "import numpy as np\n",
    "#from sklearn import cross_validation\n",
    "from sklearn import model_selection\n"
   ]
  },
  {
   "cell_type": "code",
   "execution_count": 2,
   "id": "turkish-dover",
   "metadata": {},
   "outputs": [
    {
     "name": "stderr",
     "output_type": "stream",
     "text": [
      "/Users/ruimac/opt/anaconda3/envs/tf140/lib/python3.8/site-packages/numpy/core/_asarray.py:136: VisibleDeprecationWarning: Creating an ndarray from ragged nested sequences (which is a list-or-tuple of lists-or-tuples-or ndarrays with different lengths or shapes) is deprecated. If you meant to do this, you must specify 'dtype=object' when creating the ndarray\n",
      "  return array(a, dtype, copy=False, order=order, subok=True)\n"
     ]
    }
   ],
   "source": [
    "\n",
    "classes = [\"monkey\", \"boar\", \"crow\"]\n",
    "num_classes = len(classes)\n",
    "image_size = 50\n",
    "\n",
    "# 画像の読み込み\n",
    "X = []\n",
    "Y = []\n",
    "for index, classlabel in enumerate(classes):\n",
    "    photos_dir = \"./\" + classlabel\n",
    "    files = glob.glob(photos_dir + \"/*.jpg\")\n",
    "    for i, file in enumerate(files):\n",
    "        if i >= 200: break\n",
    "        image = Image.open(file)\n",
    "        image = image.convert(\"RGB\")\n",
    "        image = image.resize((50, 50))\n",
    "        data = np.asarray(image)\n",
    "        X.append(data)\n",
    "        Y.append(index)\n",
    "\n",
    "X = np.array(X)\n",
    "Y = np.array(Y)\n",
    "\n",
    "X_train, X_test, Y_train, Y_test = model_selection.\\\n",
    "train_test_split(X, Y)\n",
    "xy = (X_train, X_test, Y_train, Y_test)\n",
    "np.save(\"./anima.npy\", xy)\n"
   ]
  },
  {
   "cell_type": "code",
   "execution_count": 3,
   "id": "pointed-denial",
   "metadata": {},
   "outputs": [
    {
     "data": {
      "text/plain": [
       "450"
      ]
     },
     "execution_count": 3,
     "metadata": {},
     "output_type": "execute_result"
    }
   ],
   "source": [
    "len(X_train)"
   ]
  },
  {
   "cell_type": "code",
   "execution_count": 4,
   "id": "discrete-assembly",
   "metadata": {},
   "outputs": [
    {
     "data": {
      "text/plain": [
       "150"
      ]
     },
     "execution_count": 4,
     "metadata": {},
     "output_type": "execute_result"
    }
   ],
   "source": [
    "len(X_test)"
   ]
  },
  {
   "cell_type": "code",
   "execution_count": 5,
   "id": "parallel-federal",
   "metadata": {},
   "outputs": [
    {
     "data": {
      "text/plain": [
       "450"
      ]
     },
     "execution_count": 5,
     "metadata": {},
     "output_type": "execute_result"
    }
   ],
   "source": [
    "len(Y_train)"
   ]
  },
  {
   "cell_type": "code",
   "execution_count": 6,
   "id": "incident-bronze",
   "metadata": {},
   "outputs": [
    {
     "data": {
      "text/plain": [
       "150"
      ]
     },
     "execution_count": 6,
     "metadata": {},
     "output_type": "execute_result"
    }
   ],
   "source": [
    "len(Y_test)"
   ]
  },
  {
   "cell_type": "code",
   "execution_count": 7,
   "id": "exempt-relay",
   "metadata": {},
   "outputs": [
    {
     "data": {
      "text/plain": [
       "array([[[199, 231, 181],\n",
       "        [196, 228, 193],\n",
       "        [193, 229, 188],\n",
       "        ...,\n",
       "        [171, 219, 164],\n",
       "        [166, 215, 176],\n",
       "        [153, 210, 136]],\n",
       "\n",
       "       [[185, 223, 166],\n",
       "        [199, 236, 192],\n",
       "        [182, 221, 179],\n",
       "        ...,\n",
       "        [142, 211,  93],\n",
       "        [158, 210, 144],\n",
       "        [156, 207, 160]],\n",
       "\n",
       "       [[172, 216, 171],\n",
       "        [176, 220, 171],\n",
       "        [179, 224, 168],\n",
       "        ...,\n",
       "        [146, 210,  99],\n",
       "        [153, 209, 143],\n",
       "        [152, 213, 133]],\n",
       "\n",
       "       ...,\n",
       "\n",
       "       [[190, 184, 178],\n",
       "        [194, 191, 193],\n",
       "        [182, 180, 165],\n",
       "        ...,\n",
       "        [197, 182, 180],\n",
       "        [192, 176, 175],\n",
       "        [181, 166, 165]],\n",
       "\n",
       "       [[178, 204, 151],\n",
       "        [156, 163, 151],\n",
       "        [136, 136, 114],\n",
       "        ...,\n",
       "        [192, 176, 173],\n",
       "        [189, 173, 168],\n",
       "        [178, 161, 157]],\n",
       "\n",
       "       [[151, 198, 113],\n",
       "        [150, 179, 127],\n",
       "        [158, 174, 141],\n",
       "        ...,\n",
       "        [187, 168, 167],\n",
       "        [185, 166, 162],\n",
       "        [180, 160, 155]]], dtype=uint8)"
      ]
     },
     "execution_count": 7,
     "metadata": {},
     "output_type": "execute_result"
    }
   ],
   "source": [
    "X_train[100]"
   ]
  },
  {
   "cell_type": "code",
   "execution_count": 8,
   "id": "third-transcription",
   "metadata": {},
   "outputs": [
    {
     "data": {
      "text/plain": [
       "1"
      ]
     },
     "execution_count": 8,
     "metadata": {},
     "output_type": "execute_result"
    }
   ],
   "source": [
    "Y_train[100]"
   ]
  },
  {
   "cell_type": "code",
   "execution_count": 9,
   "id": "intended-monkey",
   "metadata": {},
   "outputs": [
    {
     "data": {
      "text/plain": [
       "(450, 50, 50, 3)"
      ]
     },
     "execution_count": 9,
     "metadata": {},
     "output_type": "execute_result"
    }
   ],
   "source": [
    "X_train.shape"
   ]
  },
  {
   "cell_type": "code",
   "execution_count": null,
   "id": "monthly-wrist",
   "metadata": {},
   "outputs": [],
   "source": []
  }
 ],
 "metadata": {
  "kernelspec": {
   "display_name": "Python 3",
   "language": "python",
   "name": "python3"
  },
  "language_info": {
   "codemirror_mode": {
    "name": "ipython",
    "version": 3
   },
   "file_extension": ".py",
   "mimetype": "text/x-python",
   "name": "python",
   "nbconvert_exporter": "python",
   "pygments_lexer": "ipython3",
   "version": "3.8.5"
  }
 },
 "nbformat": 4,
 "nbformat_minor": 5
}
