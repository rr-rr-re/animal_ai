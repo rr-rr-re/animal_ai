{
 "cells": [
  {
   "cell_type": "code",
   "execution_count": 1,
   "id": "specialized-librarian",
   "metadata": {},
   "outputs": [],
   "source": [
    "from PIL import Image\n",
    "import os, glob\n",
    "import numpy as np\n",
    "#from sklearn import cross_validation\n",
    "from sklearn import model_selection\n"
   ]
  },
  {
   "cell_type": "code",
   "execution_count": 2,
   "id": "controlled-concrete",
   "metadata": {},
   "outputs": [
    {
     "name": "stderr",
     "output_type": "stream",
     "text": [
      "/Users/ruimac/opt/anaconda3/envs/tf140/lib/python3.8/site-packages/numpy/core/_asarray.py:136: VisibleDeprecationWarning: Creating an ndarray from ragged nested sequences (which is a list-or-tuple of lists-or-tuples-or ndarrays with different lengths or shapes) is deprecated. If you meant to do this, you must specify 'dtype=object' when creating the ndarray\n",
      "  return array(a, dtype, copy=False, order=order, subok=True)\n"
     ]
    }
   ],
   "source": [
    "\n",
    "classes = [\"monkey\", \"boar\", \"crow\"]\n",
    "num_classes = len(classes)\n",
    "image_size = 50\n",
    "\n",
    "# 画像の読み込み\n",
    "X = []\n",
    "Y = []\n",
    "for index, classlabel in enumerate(classes):\n",
    "    photos_dir = \"./\" + classlabel\n",
    "    files = glob.glob(photos_dir + \"/*.jpg\")\n",
    "    for i, file in enumerate(files):\n",
    "        if i >= 200: break\n",
    "        image = Image.open(file)\n",
    "        image = image.convert(\"RGB\")\n",
    "        image = image.resize((50, 50))\n",
    "        data = np.asarray(image)\n",
    "        X.append(data)\n",
    "        Y.append(index)\n",
    "\n",
    "X = np.array(X)\n",
    "Y = np.array(Y)\n",
    "\n",
    "X_train, X_test, Y_train, Y_test = model_selection.\\\n",
    "train_test_split(X, Y)\n",
    "xy = (X_train, X_test, Y_train, Y_test)\n",
    "np.save(\"./anima.npy\", xy)\n"
   ]
  },
  {
   "cell_type": "code",
   "execution_count": 3,
   "id": "classified-niger",
   "metadata": {},
   "outputs": [
    {
     "data": {
      "text/plain": [
       "450"
      ]
     },
     "execution_count": 3,
     "metadata": {},
     "output_type": "execute_result"
    }
   ],
   "source": [
    "len(X_train)"
   ]
  },
  {
   "cell_type": "code",
   "execution_count": 4,
   "id": "virgin-determination",
   "metadata": {},
   "outputs": [
    {
     "data": {
      "text/plain": [
       "150"
      ]
     },
     "execution_count": 4,
     "metadata": {},
     "output_type": "execute_result"
    }
   ],
   "source": [
    "len(X_test)"
   ]
  },
  {
   "cell_type": "code",
   "execution_count": 5,
   "id": "animated-accounting",
   "metadata": {},
   "outputs": [
    {
     "data": {
      "text/plain": [
       "450"
      ]
     },
     "execution_count": 5,
     "metadata": {},
     "output_type": "execute_result"
    }
   ],
   "source": [
    "len(Y_train)"
   ]
  },
  {
   "cell_type": "code",
   "execution_count": 6,
   "id": "organized-pound",
   "metadata": {},
   "outputs": [
    {
     "data": {
      "text/plain": [
       "150"
      ]
     },
     "execution_count": 6,
     "metadata": {},
     "output_type": "execute_result"
    }
   ],
   "source": [
    "len(Y_test)"
   ]
  },
  {
   "cell_type": "code",
   "execution_count": 7,
   "id": "beautiful-montana",
   "metadata": {},
   "outputs": [
    {
     "data": {
      "text/plain": [
       "array([[[174, 176, 183],\n",
       "        [168, 173, 181],\n",
       "        [163, 171, 179],\n",
       "        ...,\n",
       "        [ 80, 107, 134],\n",
       "        [ 81, 105, 137],\n",
       "        [ 80, 104, 136]],\n",
       "\n",
       "       [[206, 213, 220],\n",
       "        [202, 212, 219],\n",
       "        [196, 207, 215],\n",
       "        ...,\n",
       "        [ 94, 128, 166],\n",
       "        [ 90, 129, 163],\n",
       "        [ 90, 128, 162]],\n",
       "\n",
       "       [[182, 195, 203],\n",
       "        [186, 199, 207],\n",
       "        [180, 195, 202],\n",
       "        ...,\n",
       "        [ 88, 124, 155],\n",
       "        [ 91, 122, 159],\n",
       "        [ 90, 122, 160]],\n",
       "\n",
       "       ...,\n",
       "\n",
       "       [[ 73,  93, 119],\n",
       "        [ 71,  92, 116],\n",
       "        [ 68,  90, 114],\n",
       "        ...,\n",
       "        [106, 112, 120],\n",
       "        [181, 192, 198],\n",
       "        [195, 205, 208]],\n",
       "\n",
       "       [[ 78, 103, 130],\n",
       "        [ 77, 102, 129],\n",
       "        [ 74,  98, 126],\n",
       "        ...,\n",
       "        [159, 172, 181],\n",
       "        [191, 198, 205],\n",
       "        [202, 209, 216]],\n",
       "\n",
       "       [[ 38,  49,  62],\n",
       "        [ 37,  48,  61],\n",
       "        [ 35,  47,  61],\n",
       "        ...,\n",
       "        [ 80,  88,  96],\n",
       "        [ 81,  85,  90],\n",
       "        [ 92,  96, 101]]], dtype=uint8)"
      ]
     },
     "execution_count": 7,
     "metadata": {},
     "output_type": "execute_result"
    }
   ],
   "source": [
    "X_train[100]"
   ]
  },
  {
   "cell_type": "code",
   "execution_count": 8,
   "id": "bigger-france",
   "metadata": {},
   "outputs": [
    {
     "data": {
      "text/plain": [
       "2"
      ]
     },
     "execution_count": 8,
     "metadata": {},
     "output_type": "execute_result"
    }
   ],
   "source": [
    "Y_train[100]"
   ]
  },
  {
   "cell_type": "code",
   "execution_count": null,
   "id": "respective-lighting",
   "metadata": {},
   "outputs": [],
   "source": []
  }
 ],
 "metadata": {
  "kernelspec": {
   "display_name": "Python 3",
   "language": "python",
   "name": "python3"
  },
  "language_info": {
   "codemirror_mode": {
    "name": "ipython",
    "version": 3
   },
   "file_extension": ".py",
   "mimetype": "text/x-python",
   "name": "python",
   "nbconvert_exporter": "python",
   "pygments_lexer": "ipython3",
   "version": "3.8.5"
  }
 },
 "nbformat": 4,
 "nbformat_minor": 5
}
