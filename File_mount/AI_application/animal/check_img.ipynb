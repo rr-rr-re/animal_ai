{
 "cells": [
  {
   "cell_type": "code",
   "execution_count": 1,
   "id": "frank-atlas",
   "metadata": {},
   "outputs": [],
   "source": [
    "from PIL import Image\n",
    "import os, glob\n",
    "import numpy as np\n",
    "# from sklearn import cross_validation\n",
    "\n",
    "classes = [\"monkey\", \"boar\", \"crow\"]\n",
    "num_classes = len(classes)\n",
    "image_size = 50\n",
    "\n",
    "# 画像の読み込み\n",
    "X = []\n",
    "Y = []\n",
    "for index, classlabel in enumerate(classes):\n",
    "    photos_dir = \"./\" + classlabel\n",
    "    files = glob.glob(photos_dir + \"/*.jpg\")\n",
    "    for i, file in enumerate(files):\n",
    "        if i >= 200: break\n",
    "        image = Image.open(file)\n",
    "        image = image.convert(\"RGB\")\n",
    "        image = image.resize((50, 50))\n",
    "        data = np.asarray(image)\n",
    "        X.append(data)\n",
    "        Y.append(index)\n",
    "\n",
    "X = np.array(X)\n",
    "Y = np.array(Y)\n"
   ]
  },
  {
   "cell_type": "code",
   "execution_count": 2,
   "id": "meaning-system",
   "metadata": {},
   "outputs": [
    {
     "data": {
      "text/plain": [
       "array([[[111, 121,  93],\n",
       "        [169, 174, 141],\n",
       "        [145, 147, 117],\n",
       "        ...,\n",
       "        [126, 117,  85],\n",
       "        [ 87,  76,  56],\n",
       "        [ 56,  55,  39]],\n",
       "\n",
       "       [[148, 151, 128],\n",
       "        [130, 133, 114],\n",
       "        [ 44,  49,  45],\n",
       "        ...,\n",
       "        [127, 110,  80],\n",
       "        [ 76,  65,  37],\n",
       "        [ 50,  47,  26]],\n",
       "\n",
       "       [[128, 126, 106],\n",
       "        [ 41,  41,  39],\n",
       "        [ 67,  82,  57],\n",
       "        ...,\n",
       "        [112, 105,  79],\n",
       "        [ 96,  83,  55],\n",
       "        [ 39,  35,  15]],\n",
       "\n",
       "       ...,\n",
       "\n",
       "       [[177, 149, 106],\n",
       "        [168, 141,  91],\n",
       "        [109,  87,  59],\n",
       "        ...,\n",
       "        [168, 156, 142],\n",
       "        [249, 250, 250],\n",
       "        [254, 255, 255]],\n",
       "\n",
       "       [[183, 153, 115],\n",
       "        [151, 127,  89],\n",
       "        [124, 103,  70],\n",
       "        ...,\n",
       "        [193, 173, 147],\n",
       "        [225, 218, 216],\n",
       "        [255, 255, 255]],\n",
       "\n",
       "       [[174, 147, 110],\n",
       "        [148, 125,  90],\n",
       "        [132, 110,  75],\n",
       "        ...,\n",
       "        [190, 169, 145],\n",
       "        [200, 192, 187],\n",
       "        [255, 255, 255]]], dtype=uint8)"
      ]
     },
     "execution_count": 2,
     "metadata": {},
     "output_type": "execute_result"
    }
   ],
   "source": [
    "X[0]"
   ]
  },
  {
   "cell_type": "code",
   "execution_count": 3,
   "id": "separate-threshold",
   "metadata": {},
   "outputs": [
    {
     "data": {
      "text/plain": [
       "600"
      ]
     },
     "execution_count": 3,
     "metadata": {},
     "output_type": "execute_result"
    }
   ],
   "source": [
    "len(X)"
   ]
  },
  {
   "cell_type": "code",
   "execution_count": 5,
   "id": "mediterranean-graphics",
   "metadata": {},
   "outputs": [
    {
     "data": {
      "text/plain": [
       "0"
      ]
     },
     "execution_count": 5,
     "metadata": {},
     "output_type": "execute_result"
    }
   ],
   "source": [
    "Y[100]"
   ]
  },
  {
   "cell_type": "code",
   "execution_count": 6,
   "id": "future-array",
   "metadata": {},
   "outputs": [
    {
     "data": {
      "text/plain": [
       "1"
      ]
     },
     "execution_count": 6,
     "metadata": {},
     "output_type": "execute_result"
    }
   ],
   "source": [
    "Y[200]"
   ]
  },
  {
   "cell_type": "code",
   "execution_count": 7,
   "id": "aggressive-toilet",
   "metadata": {},
   "outputs": [
    {
     "data": {
      "text/plain": [
       "2"
      ]
     },
     "execution_count": 7,
     "metadata": {},
     "output_type": "execute_result"
    }
   ],
   "source": [
    "Y[450]"
   ]
  },
  {
   "cell_type": "code",
   "execution_count": null,
   "id": "pacific-while",
   "metadata": {},
   "outputs": [],
   "source": []
  }
 ],
 "metadata": {
  "kernelspec": {
   "display_name": "Python 3",
   "language": "python",
   "name": "python3"
  },
  "language_info": {
   "codemirror_mode": {
    "name": "ipython",
    "version": 3
   },
   "file_extension": ".py",
   "mimetype": "text/x-python",
   "name": "python",
   "nbconvert_exporter": "python",
   "pygments_lexer": "ipython3",
   "version": "3.8.5"
  }
 },
 "nbformat": 4,
 "nbformat_minor": 5
}
